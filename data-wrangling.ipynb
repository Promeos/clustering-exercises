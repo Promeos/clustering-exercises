{
 "cells": [
  {
   "cell_type": "markdown",
   "metadata": {},
   "source": [
    "# Acquire & Summarize"
   ]
  },
  {
   "cell_type": "code",
   "execution_count": 34,
   "metadata": {},
   "outputs": [],
   "source": [
    "import pandas as pd\n",
    "import numpy as np\n",
    "import matplotlib.pyplot as plt\n",
    "import seaborn as sns\n",
    "\n",
    "from acquire import get_zillow_data\n",
    "\n",
    "import warnings\n",
    "\n",
    "pd.set_option('display.max_rows', None)\n",
    "warnings.filterwarnings('ignore')"
   ]
  },
  {
   "cell_type": "markdown",
   "metadata": {},
   "source": [
    "Acquire data from mySQL using the python module to connect and query. You will want to end with a single dataframe. Make sure to include: the `logerror`, all fields related to the properties that are available. You will end up using all the tables in the database.\n",
    "\n",
    "1. Be sure to do the correct join (inner, outer, etc.). We do not want to eliminate properties purely because they may have a null value for `airconditioningtypeid`.\n",
    "2. Only include properties with a transaction in 2017, and include only the last transaction for each properity (so no duplicate property ID's), along with `zestimate error` and `date of transaction`.\n",
    "3. Only include properties that include a `latitude` and `longitude` value.\n",
    "\n",
    "\n",
    "This is the sql query I used to pull all the requested data from the zillow database.\n",
    "\n",
    "```python\n",
    "sql_query = '''\n",
    "select *\n",
    "from properties_2017\n",
    "join(select parcelid,\n",
    "    logerror,\n",
    "    max(transactiondate) as lasttransactiondate\n",
    "    from predictions_2017\n",
    "    group by parcelid, logerror\n",
    "    ) as predictions using(parcelid)\n",
    "left join `airconditioningtype` using(`airconditioningtypeid`)\n",
    "left join `architecturalstyletype` using(`architecturalstyletypeid`)\n",
    "left join `buildingclasstype` using(`buildingclasstypeid`)\n",
    "left join `heatingorsystemtype` using(`heatingorsystemtypeid`)\n",
    "left join `propertylandusetype` using(`propertylandusetypeid`)\n",
    "left join `storytype` using(`storytypeid`)\n",
    "left join `typeconstructiontype` using(`typeconstructiontypeid`)\n",
    "where (latitude is not null\n",
    "and longitude is not null);'''\n",
    "\n",
    "df = get_zillow_data(sql_query)\n",
    "```"
   ]
  },
  {
   "cell_type": "code",
   "execution_count": 17,
   "metadata": {},
   "outputs": [],
   "source": [
    "# Load the zillow dataset from a cached csv file\n",
    "df = pd.read_csv('zillow.csv')"
   ]
  },
  {
   "cell_type": "markdown",
   "metadata": {},
   "source": [
    "Summarize your data (summary stats, info, dtypes, shape, distributions, value_counts, etc.)"
   ]
  },
  {
   "cell_type": "code",
   "execution_count": 18,
   "metadata": {},
   "outputs": [
    {
     "data": {
      "text/plain": [
       "(77575, 68)"
      ]
     },
     "execution_count": 18,
     "metadata": {},
     "output_type": "execute_result"
    }
   ],
   "source": [
    "df.shape"
   ]
  },
  {
   "cell_type": "code",
   "execution_count": 19,
   "metadata": {},
   "outputs": [
    {
     "name": "stdout",
     "output_type": "stream",
     "text": [
      "<class 'pandas.core.frame.DataFrame'>\n",
      "RangeIndex: 77575 entries, 0 to 77574\n",
      "Data columns (total 68 columns):\n",
      " #   Column                        Non-Null Count  Dtype  \n",
      "---  ------                        --------------  -----  \n",
      " 0   typeconstructiontypeid        222 non-null    float64\n",
      " 1   storytypeid                   50 non-null     float64\n",
      " 2   propertylandusetypeid         77575 non-null  float64\n",
      " 3   heatingorsystemtypeid         49570 non-null  float64\n",
      " 4   buildingclasstypeid           15 non-null     float64\n",
      " 5   architecturalstyletypeid      206 non-null    float64\n",
      " 6   airconditioningtypeid         25006 non-null  float64\n",
      " 7   parcelid                      77575 non-null  int64  \n",
      " 8   id                            77575 non-null  int64  \n",
      " 9   basementsqft                  50 non-null     float64\n",
      " 10  bathroomcnt                   77575 non-null  float64\n",
      " 11  bedroomcnt                    77575 non-null  float64\n",
      " 12  buildingqualitytypeid         49809 non-null  float64\n",
      " 13  calculatedbathnbr             76960 non-null  float64\n",
      " 14  decktypeid                    614 non-null    float64\n",
      " 15  finishedfloor1squarefeet      6035 non-null   float64\n",
      " 16  calculatedfinishedsquarefeet  77375 non-null  float64\n",
      " 17  finishedsquarefeet12          73920 non-null  float64\n",
      " 18  finishedsquarefeet13          42 non-null     float64\n",
      " 19  finishedsquarefeet15          3027 non-null   float64\n",
      " 20  finishedsquarefeet50          6035 non-null   float64\n",
      " 21  finishedsquarefeet6           386 non-null    float64\n",
      " 22  fips                          77575 non-null  float64\n",
      " 23  fireplacecnt                  8287 non-null   float64\n",
      " 24  fullbathcnt                   76960 non-null  float64\n",
      " 25  garagecarcnt                  25517 non-null  float64\n",
      " 26  garagetotalsqft               25517 non-null  float64\n",
      " 27  hashottuborspa                1539 non-null   float64\n",
      " 28  latitude                      77575 non-null  float64\n",
      " 29  longitude                     77575 non-null  float64\n",
      " 30  lotsizesquarefeet             69318 non-null  float64\n",
      " 31  poolcnt                       16173 non-null  float64\n",
      " 32  poolsizesum                   869 non-null    float64\n",
      " 33  pooltypeid10                  465 non-null    float64\n",
      " 34  pooltypeid2                   1074 non-null   float64\n",
      " 35  pooltypeid7                   15078 non-null  float64\n",
      " 36  propertycountylandusecode     77575 non-null  object \n",
      " 37  propertyzoningdesc            50475 non-null  object \n",
      " 38  rawcensustractandblock        77575 non-null  float64\n",
      " 39  regionidcity                  76103 non-null  float64\n",
      " 40  regionidcounty                77575 non-null  float64\n",
      " 41  regionidneighborhood          30973 non-null  float64\n",
      " 42  regionidzip                   77525 non-null  float64\n",
      " 43  roomcnt                       77575 non-null  float64\n",
      " 44  threequarterbathnbr           10105 non-null  float64\n",
      " 45  unitcnt                       50703 non-null  float64\n",
      " 46  yardbuildingsqft17            2393 non-null   float64\n",
      " 47  yardbuildingsqft26            70 non-null     float64\n",
      " 48  yearbuilt                     77306 non-null  float64\n",
      " 49  numberofstories               17596 non-null  float64\n",
      " 50  fireplaceflag                 172 non-null    float64\n",
      " 51  structuretaxvaluedollarcnt    77460 non-null  float64\n",
      " 52  taxvaluedollarcnt             77574 non-null  float64\n",
      " 53  assessmentyear                77575 non-null  float64\n",
      " 54  landtaxvaluedollarcnt         77573 non-null  float64\n",
      " 55  taxamount                     77570 non-null  float64\n",
      " 56  taxdelinquencyflag            2900 non-null   object \n",
      " 57  taxdelinquencyyear            2900 non-null   float64\n",
      " 58  censustractandblock           77328 non-null  float64\n",
      " 59  logerror                      77575 non-null  float64\n",
      " 60  lasttransactiondate           77575 non-null  object \n",
      " 61  airconditioningdesc           25006 non-null  object \n",
      " 62  architecturalstyledesc        206 non-null    object \n",
      " 63  buildingclassdesc             15 non-null     object \n",
      " 64  heatingorsystemdesc           49570 non-null  object \n",
      " 65  propertylandusedesc           77575 non-null  object \n",
      " 66  storydesc                     50 non-null     object \n",
      " 67  typeconstructiondesc          222 non-null    object \n",
      "dtypes: float64(55), int64(2), object(11)\n",
      "memory usage: 40.2+ MB\n"
     ]
    }
   ],
   "source": [
    "df.info()"
   ]
  },
  {
   "cell_type": "code",
   "execution_count": null,
   "metadata": {},
   "outputs": [],
   "source": [
    "# sns.pairplot(df) Nope"
   ]
  },
  {
   "cell_type": "code",
   "execution_count": 25,
   "metadata": {},
   "outputs": [
    {
     "name": "stdout",
     "output_type": "stream",
     "text": [
      "Percentage of values missing per column\n",
      "---------------------------------------\n",
      "buildingclasstypeid             99.98%\n",
      "buildingclassdesc               99.98%\n",
      "finishedsquarefeet13            99.95%\n",
      "storytypeid                     99.94%\n",
      "basementsqft                    99.94%\n",
      "storydesc                       99.94%\n",
      "yardbuildingsqft26              99.91%\n",
      "fireplaceflag                   99.78%\n",
      "architecturalstyledesc          99.73%\n",
      "architecturalstyletypeid        99.73%\n",
      "typeconstructiondesc            99.71%\n",
      "typeconstructiontypeid          99.71%\n",
      "finishedsquarefeet6             99.50%\n",
      "pooltypeid10                    99.40%\n",
      "decktypeid                      99.21%\n",
      "poolsizesum                     98.88%\n",
      "pooltypeid2                     98.62%\n",
      "hashottuborspa                  98.02%\n",
      "yardbuildingsqft17              96.92%\n",
      "taxdelinquencyyear              96.26%\n",
      "taxdelinquencyflag              96.26%\n",
      "finishedsquarefeet15            96.10%\n",
      "finishedsquarefeet50            92.22%\n",
      "finishedfloor1squarefeet        92.22%\n",
      "fireplacecnt                    89.32%\n",
      "threequarterbathnbr             86.97%\n",
      "pooltypeid7                     80.56%\n",
      "poolcnt                         79.15%\n",
      "numberofstories                 77.32%\n",
      "airconditioningdesc             67.77%\n",
      "airconditioningtypeid           67.77%\n",
      "garagetotalsqft                 67.11%\n",
      "garagecarcnt                    67.11%\n",
      "regionidneighborhood            60.07%\n",
      "heatingorsystemdesc             36.10%\n",
      "heatingorsystemtypeid           36.10%\n",
      "buildingqualitytypeid           35.79%\n",
      "propertyzoningdesc              34.93%\n",
      "unitcnt                         34.64%\n",
      "lotsizesquarefeet               10.64%\n",
      "finishedsquarefeet12             4.71%\n",
      "regionidcity                     1.90%\n",
      "calculatedbathnbr                0.79%\n",
      "fullbathcnt                      0.79%\n",
      "yearbuilt                        0.35%\n",
      "censustractandblock              0.32%\n",
      "calculatedfinishedsquarefeet     0.26%\n",
      "structuretaxvaluedollarcnt       0.15%\n",
      "regionidzip                      0.06%\n",
      "taxamount                        0.01%\n",
      "landtaxvaluedollarcnt            0.00%\n",
      "taxvaluedollarcnt                0.00%\n",
      "longitude                        0.00%\n",
      "parcelid                         0.00%\n",
      "propertylandusedesc              0.00%\n",
      "propertylandusetypeid            0.00%\n",
      "roomcnt                          0.00%\n",
      "regionidcounty                   0.00%\n",
      "rawcensustractandblock           0.00%\n",
      "id                               0.00%\n",
      "logerror                         0.00%\n",
      "lasttransactiondate              0.00%\n",
      "bathroomcnt                      0.00%\n",
      "fips                             0.00%\n",
      "propertycountylandusecode        0.00%\n",
      "assessmentyear                   0.00%\n",
      "latitude                         0.00%\n",
      "bedroomcnt                       0.00%\n",
      "dtype: object\n"
     ]
    }
   ],
   "source": [
    "# Using `isnull()` and `notnull()` we can calculate the number of missing values and non-null values.\n",
    "nulls = df.isnull().sum()\n",
    "non_nulls = df.notnull().sum()\n",
    "\n",
    "# Add missing values and non-null values together to get the total number values in each column.\n",
    "total_values = nulls + non_nulls\n",
    "\n",
    "# Create a variable to store the percentage of missing values in each column.\n",
    "pct_missing = (nulls/total_values).sort_values(ascending=False)\n",
    "\n",
    "# Perform formatting to clearly see the percentage of missing values in each column.\n",
    "pct_missing_chart = pct_missing.apply(\"{0:.2%}\".format)\n",
    "\n",
    "# Display table to the user showing the percentage of missing values in each column.\n",
    "print('Percentage of values missing per column')\n",
    "print('-' * 39)\n",
    "print(f\"{pct_missing_chart}\")"
   ]
  },
  {
   "cell_type": "markdown",
   "metadata": {},
   "source": [
    "Write a function that takes in a dataframe of observations and attributes and returns a dataframe where each row is an atttribute name, the first column is the number of rows with missing values for that attribute, and the second column is percent of total rows that have missing values for that attribute. Run the function and document takeaways from this on how you want to handle missing values. "
   ]
  },
  {
   "cell_type": "code",
   "execution_count": null,
   "metadata": {},
   "outputs": [],
   "source": []
  }
 ],
 "metadata": {
  "kernelspec": {
   "display_name": "Python 3",
   "language": "python",
   "name": "python3"
  },
  "language_info": {
   "codemirror_mode": {
    "name": "ipython",
    "version": 3
   },
   "file_extension": ".py",
   "mimetype": "text/x-python",
   "name": "python",
   "nbconvert_exporter": "python",
   "pygments_lexer": "ipython3",
   "version": "3.7.6"
  }
 },
 "nbformat": 4,
 "nbformat_minor": 4
}
